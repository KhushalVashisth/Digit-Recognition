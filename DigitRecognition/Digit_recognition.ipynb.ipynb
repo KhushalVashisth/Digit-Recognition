{
 "cells": [
  {
   "cell_type": "code",
   "execution_count": 2,
   "id": "d5b4e537-8d7f-4161-bb1e-3393b976e774",
   "metadata": {
    "tags": []
   },
   "outputs": [
    {
     "name": "stdout",
     "output_type": "stream",
     "text": [
      "Epoch 1/5\n",
      "1875/1875 [==============================] - 10s 5ms/step - loss: 0.2970 - accuracy: 0.9136\n",
      "Epoch 2/5\n",
      "1875/1875 [==============================] - 9s 5ms/step - loss: 0.1430 - accuracy: 0.9570\n",
      "Epoch 3/5\n",
      "1875/1875 [==============================] - 10s 5ms/step - loss: 0.1108 - accuracy: 0.9665\n",
      "Epoch 4/5\n",
      "1875/1875 [==============================] - 9s 5ms/step - loss: 0.0913 - accuracy: 0.9713\n",
      "Epoch 5/5\n",
      "1875/1875 [==============================] - 9s 5ms/step - loss: 0.0781 - accuracy: 0.9758\n",
      "313/313 [==============================] - 1s 3ms/step - loss: 0.0782 - accuracy: 0.9761\n",
      "Test accuracy: 0.9761000275611877\n"
     ]
    }
   ],
   "source": [
    "import numpy as np\n",
    "import tensorflow as tf\n",
    "from tensorflow.keras.datasets import mnist\n",
    "from tensorflow.keras.models import Sequential\n",
    "from tensorflow.keras.layers import Flatten, Dense, Dropout\n",
    "\n",
    "# Load and preprocess the MNIST dataset\n",
    "(x_train, y_train), (x_test, y_test) = mnist.load_data()\n",
    "\n",
    "x_train, x_test = x_train / 255.0, x_test / 255.0\n",
    "\n",
    "# Build the model\n",
    "model = Sequential([\n",
    "    Flatten(input_shape=(28, 28)),\n",
    "    Dense(128, activation='relu'),\n",
    "    Dropout(0.2),\n",
    "    Dense(10, activation='softmax')  # 10 classes for digits 0-9\n",
    "])\n",
    "\n",
    "# Compile the model\n",
    "model.compile(optimizer='adam',\n",
    "              loss='sparse_categorical_crossentropy',\n",
    "              metrics=['accuracy'])\n",
    "\n",
    "# Train the model\n",
    "model.fit(x_train, y_train, epochs=5)\n",
    "\n",
    "# Evaluate the model\n",
    "test_loss, test_acc = model.evaluate(x_test, y_test)\n",
    "print(\"Test accuracy:\", test_acc)\n",
    "\n"
   ]
  },
  {
   "cell_type": "code",
   "execution_count": 12,
   "id": "bb9d3a90-db58-4ee5-9b8e-009e1b7d623f",
   "metadata": {
    "tags": []
   },
   "outputs": [
    {
     "name": "stdout",
     "output_type": "stream",
     "text": [
      "Shape of input image array: (1, 28, 28)\n",
      "1/1 [==============================] - 0s 86ms/step\n"
     ]
    },
    {
     "name": "stderr",
     "output_type": "stream",
     "text": [
      "C:\\Users\\Dell\\AppData\\Local\\Temp\\ipykernel_3564\\3750468600.py:71: DeprecationWarning: ANTIALIAS is deprecated and will be removed in Pillow 10 (2023-07-01). Use LANCZOS or Resampling.LANCZOS instead.\n",
      "  resized_image = self.image.resize((28, 28), Image.ANTIALIAS)\n"
     ]
    },
    {
     "name": "stdout",
     "output_type": "stream",
     "text": [
      "Raw prediction scores: [[1.5486756e-14 1.9568006e-12 9.6324623e-01 2.6919571e-04 7.9592180e-25\n",
      "  3.6474384e-02 3.9265778e-11 3.9957530e-07 9.7729917e-06 2.8935096e-19]]\n",
      "Predicted digit: 2\n",
      "Shape of input image array: (1, 28, 28)\n",
      "1/1 [==============================] - 0s 38ms/step\n",
      "Raw prediction scores: [[2.70285821e-15 8.34104776e-18 7.53129244e-01 2.29958192e-01\n",
      "  1.00008234e-28 1.64814629e-02 4.74790867e-19 2.88410549e-04\n",
      "  1.42789781e-04 8.75015144e-18]]\n",
      "Predicted digit: 2\n",
      "Shape of input image array: (1, 28, 28)\n",
      "1/1 [==============================] - 0s 33ms/step\n",
      "Raw prediction scores: [[8.5115229e-21 8.1855809e-20 1.3139528e-03 9.9868268e-01 4.8074886e-34\n",
      "  2.9256412e-06 6.4449078e-23 3.2068036e-07 4.6682949e-08 3.4045831e-22]]\n",
      "Predicted digit: 3\n"
     ]
    }
   ],
   "source": [
    "import numpy as np\n",
    "import numpy as np\n",
    "import tensorflow as tf\n",
    "from tensorflow.keras.models import load_model\n",
    "import tkinter as tk\n",
    "from tkinter import Canvas, Button, Label\n",
    "from PIL import Image, ImageDraw\n",
    "\n",
    "# Load the pre-trained MNIST model\n",
    "model = load_model('mnist_model.h5')\n",
    "\n",
    "# Create GUI\n",
    "class DigitRecognizerApp:\n",
    "    def __init__(self, root):\n",
    "        self.root = root\n",
    "        self.root.title(\"Digit Recognizer\")\n",
    "\n",
    "        self.canvas = Canvas(root, width=200, height=200, bg=\"white\")\n",
    "        self.canvas.pack()\n",
    "\n",
    "        self.label = Label(root, text=\"Draw a digit\", font=(\"Helvetica\", 18))\n",
    "        self.label.pack()\n",
    "\n",
    "        self.clear_button = Button(root, text=\"Clear\", command=self.clear_canvas)\n",
    "        self.clear_button.pack()\n",
    "\n",
    "        self.predict_button = Button(root, text=\"Predict\", command=self.predict_digit)\n",
    "        self.predict_button.pack()\n",
    "\n",
    "        self.predicted_label = Label(root, text=\"\", font=(\"Helvetica\", 18))\n",
    "        self.predicted_label.pack()\n",
    "\n",
    "        self.image = Image.new(\"L\", (200, 200), \"white\")\n",
    "        self.draw = ImageDraw.Draw(self.image)\n",
    "\n",
    "        self.canvas.bind(\"<Button-1>\", self.start_drawing)\n",
    "        self.canvas.bind(\"<B1-Motion>\", self.draw_line)\n",
    "        self.canvas.bind(\"<ButtonRelease-1>\", self.stop_drawing)\n",
    "\n",
    "        self.drawing = False\n",
    "        self.old_x = None\n",
    "        self.old_y = None\n",
    "\n",
    "    def start_drawing(self, event):\n",
    "        self.drawing = True\n",
    "        self.old_x = event.x\n",
    "        self.old_y = event.y\n",
    "\n",
    "    def draw_line(self, event):\n",
    "        if self.drawing:\n",
    "            x, y = event.x, event.y\n",
    "            if self.old_x and self.old_y:\n",
    "                self.canvas.create_line(self.old_x, self.old_y, x, y, width=12, fill=\"black\", capstyle=tk.ROUND, smooth=tk.TRUE)\n",
    "                self.draw.line([self.old_x, self.old_y, x, y], fill=\"black\", width=12)\n",
    "            self.old_x = x\n",
    "            self.old_y = y\n",
    "\n",
    "    def stop_drawing(self, event):\n",
    "        self.drawing = False\n",
    "        self.old_x = None\n",
    "        self.old_y = None\n",
    "\n",
    "    def clear_canvas(self):\n",
    "        self.canvas.delete(\"all\")\n",
    "        self.label.config(text=\"Draw a digit\")\n",
    "        self.predicted_label.config(text=\"\")\n",
    "        self.image = Image.new(\"L\", (200, 200), \"white\")\n",
    "        self.draw = ImageDraw.Draw(self.image)\n",
    "    \n",
    "    def predict_digit(self):\n",
    "        resized_image = self.image.resize((28, 28), Image.ANTIALIAS)\n",
    "        img_array = np.array(resized_image)\n",
    "        img_array = img_array / 255.0\n",
    "        img_array = np.expand_dims(img_array, axis=0)\n",
    "        print(\"Shape of input image array:\", img_array.shape)\n",
    "        prediction = model.predict(img_array)\n",
    "        print(\"Raw prediction scores:\", prediction)\n",
    "        predicted_digit = np.argmax(prediction)\n",
    "        print(\"Predicted digit:\", predicted_digit)\n",
    "        self.label.config(text=f\"Drawn Digit: {predicted_digit}\")\n",
    "        self.predicted_label.config(text=f\"Prediction: {predicted_digit}\")\n",
    "\n",
    "    \n",
    "root = tk.Tk()\n",
    "app = DigitRecognizerApp(root)\n",
    "root.mainloop()"
   ]
  },
  {
   "cell_type": "code",
   "execution_count": null,
   "id": "2353b67e-e355-48c5-8cd9-1538b0c4749f",
   "metadata": {},
   "outputs": [],
   "source": []
  }
 ],
 "metadata": {
  "kernelspec": {
   "display_name": "Python 3 (ipykernel)",
   "language": "python",
   "name": "python3"
  },
  "language_info": {
   "codemirror_mode": {
    "name": "ipython",
    "version": 3
   },
   "file_extension": ".py",
   "mimetype": "text/x-python",
   "name": "python",
   "nbconvert_exporter": "python",
   "pygments_lexer": "ipython3",
   "version": "3.11.3"
  }
 },
 "nbformat": 4,
 "nbformat_minor": 5
}
